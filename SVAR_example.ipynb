{
 "cells": [
  {
   "cell_type": "code",
   "execution_count": 1,
   "metadata": {},
   "outputs": [],
   "source": [
    "%load_ext autoreload\n",
    "%autoreload 2\n",
    "\n",
    "import datetime\n",
    "import numpy as np\n",
    "import scipy as sp\n",
    "import pandas as pd\n",
    "import functools as fts\n",
    "import multiprocessing as mp\n",
    "from tqdm.notebook import tqdm\n",
    "from tqdm.contrib import tzip, tenumerate, tmap\n",
    "\n",
    "from pyspark.sql import SparkSession\n",
    "from pyspark.sql import DataFrame\n",
    "from pyspark.storagelevel import StorageLevel\n",
    "from pyspark.sql.functions import col\n",
    "import pyspark.sql.types as pstype\n",
    "import pyspark.sql.functions as F\n",
    "import pyspark as ps\n",
    "\n",
    "import matplotlib as mlt\n",
    "import matplotlib.pyplot as plt\n",
    "from matplotlib.animation import ArtistAnimation\n",
    "from IPython.display import HTML\n",
    "import japanize_matplotlib\n",
    "\n",
    "from time_series_model import *\n",
    "\n",
    "%matplotlib inline\n",
    "%matplotlib ipympl"
   ]
  },
  {
   "cell_type": "code",
   "execution_count": 2,
   "id": "288ae984",
   "metadata": {},
   "outputs": [
    {
     "name": "stderr",
     "output_type": "stream",
     "text": [
      "Setting default log level to \"WARN\".\n",
      "To adjust logging level use sc.setLogLevel(newLevel). For SparkR, use setLogLevel(newLevel).\n",
      "24/11/18 14:51:50 WARN NativeCodeLoader: Unable to load native-hadoop library for your platform... using builtin-java classes where applicable\n",
      "24/11/18 14:51:50 WARN Utils: Service 'SparkUI' could not bind on port 4040. Attempting port 4041.\n"
     ]
    }
   ],
   "source": [
    "np.set_printoptions(threshold=100, precision=4, linewidth=10000)\n",
    "ps_conf = ps.SparkConf().set(\"spark.logConf\", \"false\")\\\n",
    "            .set(\"spark.executor.memory\", \"12g\")\\\n",
    "            .set(\"spark.driver.memory\", \"4g\")\\\n",
    "            .set(\"spark.executor.cores\", \"7\")\\\n",
    "            .set(\"spark.sql.shuffle.partitions\", \"500\")\\\n",
    "            .set(\"spark.executor.extraJavaOptions\", \"-XX:+UseG1GC -XX:+UseStringDeduplication\")\\\n",
    "            .set(\"spark.eventLog.gcMetrics.youngGenerationGarbageCollectors\", \"G1 Young Generation\")\\\n",
    "            .set(\"spark.eventLog.gcMetrics.oldGenerationGarbageCollectors\", \"G1 Old Generation\")\\\n",
    "\t\t\t.set(\"spark.logConf\", \"false\")\n",
    "spark = SparkSession.builder.config(conf=ps_conf).getOrCreate()"
   ]
  },
  {
   "cell_type": "code",
   "execution_count": 3,
   "id": "8f66800a",
   "metadata": {},
   "outputs": [],
   "source": [
    "SPECIFIED_PATH = \"csv_data/\"\n",
    "SPECIFIED_DATE = \"20240918\"\n",
    "SPECIFIED_CSV  = SPECIFIED_PATH + SPECIFIED_DATE"
   ]
  },
  {
   "cell_type": "code",
   "execution_count": 4,
   "id": "312fa2c6",
   "metadata": {},
   "outputs": [],
   "source": [
    "input_path = SPECIFIED_CSV + \"_c-united_config.csv\"\n",
    "df_config  = spark.read.option(\"inferSchema\", \"True\").option(\"header\", \"True\").csv(input_path)\n",
    "df_config.persist(StorageLevel.MEMORY_AND_DISK_DESER)\n",
    "\n",
    "utid_list = df_config.select(\"unit_id\").drop_duplicates().rdd.flatMap(lambda x: x).collect()\n",
    "spid_list = df_config.select(\"shop_id\").drop_duplicates().rdd.flatMap(lambda x: x).collect()"
   ]
  },
  {
   "cell_type": "code",
   "execution_count": 5,
   "id": "718b4135",
   "metadata": {},
   "outputs": [
    {
     "name": "stderr",
     "output_type": "stream",
     "text": [
      "[Stage 11:>                                                         (0 + 8) / 8]\r"
     ]
    },
    {
     "name": "stdout",
     "output_type": "stream",
     "text": [
      "+-------+----------+----+--------+----------+------+\n",
      "|shop_id|      date|hour|来店者数|総売上点数|総売上|\n",
      "+-------+----------+----+--------+----------+------+\n",
      "|   1189|2023-10-10|   6|       1|         1|   360|\n",
      "|   1189|2023-10-10|   7|      56|        98| 43340|\n",
      "|   1189|2023-10-10|   8|      50|        84| 36170|\n",
      "|   1189|2023-10-10|   9|      66|       404|156520|\n",
      "|   1189|2023-10-10|  10|      62|       129| 57640|\n",
      "|   1189|2023-10-10|  11|      52|       120| 66465|\n",
      "|   1189|2023-10-10|  12|     107|       206| 99340|\n",
      "|   1189|2023-10-10|  13|      97|       166| 76190|\n",
      "|   1189|2023-10-10|  14|      92|       185| 90990|\n",
      "|   1189|2023-10-10|  15|     102|       176| 77170|\n",
      "|   1189|2023-10-10|  16|     102|       204| 90260|\n",
      "|   1189|2023-10-10|  17|      69|       174| 80205|\n",
      "|   1189|2023-10-10|  18|      77|       125| 60590|\n",
      "|   1189|2023-10-10|  19|      67|       133| 61540|\n",
      "|   1189|2023-10-10|  20|      41|        74| 34710|\n",
      "|   1189|2023-10-10|  21|      13|        26| 11895|\n",
      "|   1189|2023-10-11|   6|       1|         3|  1580|\n",
      "|   1189|2023-10-11|   7|      62|       103| 45610|\n",
      "|   1189|2023-10-11|   8|      59|       103| 46400|\n",
      "|   1189|2023-10-11|   9|      65|       121| 54800|\n",
      "+-------+----------+----+--------+----------+------+\n",
      "only showing top 20 rows\n",
      "\n"
     ]
    },
    {
     "name": "stderr",
     "output_type": "stream",
     "text": [
      "                                                                                \r"
     ]
    }
   ],
   "source": [
    "#pos data 前処理\n",
    "input_path  = SPECIFIED_CSV + \"_pos_data_table.csv\"\n",
    "df_pos_data = spark.read.option('inferSchema', 'True').option('header', 'True').csv(input_path)\\\n",
    "\t\t\t\t.select(\n",
    "\t\t\t\t\t\"shop_id\",\n",
    "                    \"レシートＮｏ．\",\n",
    "                    \"商品種別\",\n",
    "                    \"商品コード\",\n",
    "                    F.regexp_replace(col(\"商品名称（または券名称）\"), \"[ 　]\", \"\").alias(\"商品名称（または券名称）\"),\n",
    "                    \"オーダー時刻\",\n",
    "                    \"単価\",\n",
    "                    \"数量\",\n",
    "                    \"合計金額\",\n",
    "                    \"date\"\n",
    "\t\t\t\t)\\\n",
    "\t\t\t\t.filter(col(\"商品名称（または券名称）\") != \"\")\\\n",
    "\t\t\t\t.groupBy(\"shop_id\", \"date\", \"レシートＮｏ．\").agg(\n",
    "                    F.last(\"オーダー時刻\").alias(\"オーダー時刻\"),\n",
    "                    F.sum(F.when(col(\"商品種別\") == \"Y\", 1).otherwise(0)).alias(\"レシートあたりのセット商品の数\"),\n",
    "                    F.sum(\"数量\").alias(\"総売上点数\"),\n",
    "                    F.sum(\"合計金額\").alias(\"総売上\"),\n",
    "\t\t\t\t)\\\n",
    "                .withColumn(\"レシートあたりのセット商品の数\", F.when(col(\"レシートあたりのセット商品の数\") == 0, 1)\n",
    "                            \t\t\t\t\t\t\t\t.otherwise(col(\"レシートあたりのセット商品の数\")))\\\n",
    "                .withColumn(\"オーダー時刻\", (F.col(\"オーダー時刻\") / 100).cast(\"int\"))\\\n",
    "                .withColumnRenamed(\"レシートあたりのセット商品の数\", \"来店者数\")\\\n",
    "                .withColumnRenamed(\"オーダー時刻\", \"hour\")\n",
    "df_pos_data = df_pos_data.groupBy(\"shop_id\", \"date\", \"hour\").agg(\n",
    "                    F.sum(\"来店者数\").alias(\"来店者数\"),\n",
    "                    F.sum(\"総売上点数\").alias(\"総売上点数\"),\n",
    "                    F.sum(\"総売上\").alias(\"総売上\"),\n",
    "\t\t\t\t)\\\n",
    "                .select([\"shop_id\", \"date\", \"hour\", \"来店者数\", \"総売上点数\", \"総売上\"])\\\n",
    "                .orderBy(col(\"shop_id\").asc(), col(\"date\").asc(), col(\"hour\").asc())\n",
    "df_pos_data.show()"
   ]
  },
  {
   "cell_type": "code",
   "execution_count": 6,
   "id": "36b3bc91",
   "metadata": {},
   "outputs": [
    {
     "name": "stderr",
     "output_type": "stream",
     "text": [
      "[Stage 17:=======>                                                  (1 + 7) / 8]\r"
     ]
    },
    {
     "name": "stdout",
     "output_type": "stream",
     "text": [
      "+-------+-------------------+--------+----------+------+\n",
      "|shop_id|               date|来店者数|総売上点数|総売上|\n",
      "+-------+-------------------+--------+----------+------+\n",
      "|   1189|2023-10-10 06:00:00|       1|         1|   360|\n",
      "|   1189|2023-10-10 07:00:00|      56|        98| 43340|\n",
      "|   1189|2023-10-10 08:00:00|      50|        84| 36170|\n",
      "|   1189|2023-10-10 09:00:00|      66|       404|156520|\n",
      "|   1189|2023-10-10 10:00:00|      62|       129| 57640|\n",
      "|   1189|2023-10-10 11:00:00|      52|       120| 66465|\n",
      "|   1189|2023-10-10 12:00:00|     107|       206| 99340|\n",
      "|   1189|2023-10-10 13:00:00|      97|       166| 76190|\n",
      "|   1189|2023-10-10 14:00:00|      92|       185| 90990|\n",
      "|   1189|2023-10-10 15:00:00|     102|       176| 77170|\n",
      "|   1189|2023-10-10 16:00:00|     102|       204| 90260|\n",
      "|   1189|2023-10-10 17:00:00|      69|       174| 80205|\n",
      "|   1189|2023-10-10 18:00:00|      77|       125| 60590|\n",
      "|   1189|2023-10-10 19:00:00|      67|       133| 61540|\n",
      "|   1189|2023-10-10 20:00:00|      41|        74| 34710|\n",
      "|   1189|2023-10-10 21:00:00|      13|        26| 11895|\n",
      "|   1189|2023-10-11 06:00:00|       1|         3|  1580|\n",
      "|   1189|2023-10-11 07:00:00|      62|       103| 45610|\n",
      "|   1189|2023-10-11 08:00:00|      59|       103| 46400|\n",
      "|   1189|2023-10-11 09:00:00|      65|       121| 54800|\n",
      "+-------+-------------------+--------+----------+------+\n",
      "only showing top 20 rows\n",
      "\n"
     ]
    },
    {
     "name": "stderr",
     "output_type": "stream",
     "text": [
      "                                                                                \r"
     ]
    }
   ],
   "source": [
    "df_pos_data = df_pos_data\\\n",
    "    \t\t\t\t.withColumn(\"date\", F.from_unixtime(F.unix_timestamp(\"date\") + F.col(\"hour\") * 3600))\\\n",
    "                    .drop(\"hour\")\\\n",
    "                    .orderBy(col(\"shop_id\").asc(), col(\"date\").asc())\n",
    "df_pos_data.show()"
   ]
  },
  {
   "cell_type": "code",
   "execution_count": 7,
   "id": "865e0343",
   "metadata": {},
   "outputs": [
    {
     "name": "stderr",
     "output_type": "stream",
     "text": [
      "                                                                                \r"
     ]
    },
    {
     "name": "stdout",
     "output_type": "stream",
     "text": [
      "+-------+-------------------------------------+-------------------+--------+----------+------+\n",
      "|shop_id|                              caption|               date|来店者数|総売上点数|総売上|\n",
      "+-------+-------------------------------------+-------------------+--------+----------+------+\n",
      "|   1189|カフェ・ド・クリエグランサンシャイ...|2023-10-10 06:00:00|       1|         1|   360|\n",
      "|   1189|カフェ・ド・クリエグランサンシャイ...|2023-10-10 07:00:00|      56|        98| 43340|\n",
      "|   1189|カフェ・ド・クリエグランサンシャイ...|2023-10-10 08:00:00|      50|        84| 36170|\n",
      "|   1189|カフェ・ド・クリエグランサンシャイ...|2023-10-10 09:00:00|      66|       404|156520|\n",
      "|   1189|カフェ・ド・クリエグランサンシャイ...|2023-10-10 10:00:00|      62|       129| 57640|\n",
      "|   1189|カフェ・ド・クリエグランサンシャイ...|2023-10-10 11:00:00|      52|       120| 66465|\n",
      "|   1189|カフェ・ド・クリエグランサンシャイ...|2023-10-10 12:00:00|     107|       206| 99340|\n",
      "|   1189|カフェ・ド・クリエグランサンシャイ...|2023-10-10 13:00:00|      97|       166| 76190|\n",
      "|   1189|カフェ・ド・クリエグランサンシャイ...|2023-10-10 14:00:00|      92|       185| 90990|\n",
      "|   1189|カフェ・ド・クリエグランサンシャイ...|2023-10-10 15:00:00|     102|       176| 77170|\n",
      "|   1189|カフェ・ド・クリエグランサンシャイ...|2023-10-10 16:00:00|     102|       204| 90260|\n",
      "|   1189|カフェ・ド・クリエグランサンシャイ...|2023-10-10 17:00:00|      69|       174| 80205|\n",
      "|   1189|カフェ・ド・クリエグランサンシャイ...|2023-10-10 18:00:00|      77|       125| 60590|\n",
      "|   1189|カフェ・ド・クリエグランサンシャイ...|2023-10-10 19:00:00|      67|       133| 61540|\n",
      "|   1189|カフェ・ド・クリエグランサンシャイ...|2023-10-10 20:00:00|      41|        74| 34710|\n",
      "|   1189|カフェ・ド・クリエグランサンシャイ...|2023-10-10 21:00:00|      13|        26| 11895|\n",
      "|   1189|カフェ・ド・クリエグランサンシャイ...|2023-10-11 06:00:00|       1|         3|  1580|\n",
      "|   1189|カフェ・ド・クリエグランサンシャイ...|2023-10-11 07:00:00|      62|       103| 45610|\n",
      "|   1189|カフェ・ド・クリエグランサンシャイ...|2023-10-11 08:00:00|      59|       103| 46400|\n",
      "|   1189|カフェ・ド・クリエグランサンシャイ...|2023-10-11 09:00:00|      65|       121| 54800|\n",
      "+-------+-------------------------------------+-------------------+--------+----------+------+\n",
      "only showing top 20 rows\n",
      "\n"
     ]
    }
   ],
   "source": [
    "df_pos_data = df_pos_data\\\n",
    "\t\t\t\t\t.join(df_config.select([\"shop_id\", \"caption\"]), on=\"shop_id\", how=\"inner\")\\\n",
    "                    .select([\"shop_id\", \"caption\", \"date\", \"来店者数\", \"総売上点数\", \"総売上\"])\\\n",
    "                    .orderBy(col(\"shop_id\").asc(), col(\"date\").asc())\n",
    "df_pos_data.show()"
   ]
  },
  {
   "cell_type": "code",
   "execution_count": 8,
   "id": "340990cc",
   "metadata": {},
   "outputs": [
    {
     "name": "stderr",
     "output_type": "stream",
     "text": [
      "24/11/18 14:52:02 WARN GarbageCollectionMetrics: To enable non-built-in garbage collector(s) List(G1 Concurrent GC), users should configure it(them) to spark.eventLog.gcMetrics.youngGenerationGarbageCollectors or spark.eventLog.gcMetrics.oldGenerationGarbageCollectors\n",
      "                                                                                \r"
     ]
    },
    {
     "data": {
      "text/html": [
       "<div>\n",
       "<style scoped>\n",
       "    .dataframe tbody tr th:only-of-type {\n",
       "        vertical-align: middle;\n",
       "    }\n",
       "\n",
       "    .dataframe tbody tr th {\n",
       "        vertical-align: top;\n",
       "    }\n",
       "\n",
       "    .dataframe thead th {\n",
       "        text-align: right;\n",
       "    }\n",
       "</style>\n",
       "<table border=\"1\" class=\"dataframe\">\n",
       "  <thead>\n",
       "    <tr style=\"text-align: right;\">\n",
       "      <th></th>\n",
       "      <th>date</th>\n",
       "      <th>カフェ・ド・クリエグランサンシャイン通り店</th>\n",
       "      <th>カフェ・ド・クリエ日比谷通り内幸町店</th>\n",
       "      <th>カフェ・ド・クリエ札幌オーロラタウン店</th>\n",
       "      <th>カフェ・ド・クリエ博多大博通店</th>\n",
       "    </tr>\n",
       "  </thead>\n",
       "  <tbody>\n",
       "    <tr>\n",
       "      <th>0</th>\n",
       "      <td>2023-10-10 07:00:00</td>\n",
       "      <td>56</td>\n",
       "      <td>45</td>\n",
       "      <td>14</td>\n",
       "      <td>20</td>\n",
       "    </tr>\n",
       "    <tr>\n",
       "      <th>1</th>\n",
       "      <td>2023-10-10 08:00:00</td>\n",
       "      <td>50</td>\n",
       "      <td>45</td>\n",
       "      <td>14</td>\n",
       "      <td>23</td>\n",
       "    </tr>\n",
       "    <tr>\n",
       "      <th>2</th>\n",
       "      <td>2023-10-10 09:00:00</td>\n",
       "      <td>66</td>\n",
       "      <td>12</td>\n",
       "      <td>15</td>\n",
       "      <td>26</td>\n",
       "    </tr>\n",
       "    <tr>\n",
       "      <th>3</th>\n",
       "      <td>2023-10-10 10:00:00</td>\n",
       "      <td>62</td>\n",
       "      <td>13</td>\n",
       "      <td>15</td>\n",
       "      <td>16</td>\n",
       "    </tr>\n",
       "    <tr>\n",
       "      <th>4</th>\n",
       "      <td>2023-10-10 11:00:00</td>\n",
       "      <td>52</td>\n",
       "      <td>45</td>\n",
       "      <td>36</td>\n",
       "      <td>19</td>\n",
       "    </tr>\n",
       "    <tr>\n",
       "      <th>...</th>\n",
       "      <td>...</td>\n",
       "      <td>...</td>\n",
       "      <td>...</td>\n",
       "      <td>...</td>\n",
       "      <td>...</td>\n",
       "    </tr>\n",
       "    <tr>\n",
       "      <th>3827</th>\n",
       "      <td>2024-09-15 13:00:00</td>\n",
       "      <td>103</td>\n",
       "      <td>18</td>\n",
       "      <td>33</td>\n",
       "      <td>29</td>\n",
       "    </tr>\n",
       "    <tr>\n",
       "      <th>3828</th>\n",
       "      <td>2024-09-15 14:00:00</td>\n",
       "      <td>127</td>\n",
       "      <td>10</td>\n",
       "      <td>25</td>\n",
       "      <td>20</td>\n",
       "    </tr>\n",
       "    <tr>\n",
       "      <th>3829</th>\n",
       "      <td>2024-09-15 15:00:00</td>\n",
       "      <td>120</td>\n",
       "      <td>23</td>\n",
       "      <td>42</td>\n",
       "      <td>27</td>\n",
       "    </tr>\n",
       "    <tr>\n",
       "      <th>3830</th>\n",
       "      <td>2024-09-15 16:00:00</td>\n",
       "      <td>125</td>\n",
       "      <td>16</td>\n",
       "      <td>27</td>\n",
       "      <td>15</td>\n",
       "    </tr>\n",
       "    <tr>\n",
       "      <th>3831</th>\n",
       "      <td>2024-09-15 17:00:00</td>\n",
       "      <td>129</td>\n",
       "      <td>4</td>\n",
       "      <td>15</td>\n",
       "      <td>10</td>\n",
       "    </tr>\n",
       "  </tbody>\n",
       "</table>\n",
       "<p>3832 rows × 5 columns</p>\n",
       "</div>"
      ],
      "text/plain": [
       "                     date  カフェ・ド・クリエグランサンシャイン通り店  カフェ・ド・クリエ日比谷通り内幸町店  \\\n",
       "0     2023-10-10 07:00:00                     56                  45   \n",
       "1     2023-10-10 08:00:00                     50                  45   \n",
       "2     2023-10-10 09:00:00                     66                  12   \n",
       "3     2023-10-10 10:00:00                     62                  13   \n",
       "4     2023-10-10 11:00:00                     52                  45   \n",
       "...                   ...                    ...                 ...   \n",
       "3827  2024-09-15 13:00:00                    103                  18   \n",
       "3828  2024-09-15 14:00:00                    127                  10   \n",
       "3829  2024-09-15 15:00:00                    120                  23   \n",
       "3830  2024-09-15 16:00:00                    125                  16   \n",
       "3831  2024-09-15 17:00:00                    129                   4   \n",
       "\n",
       "      カフェ・ド・クリエ札幌オーロラタウン店  カフェ・ド・クリエ博多大博通店  \n",
       "0                      14               20  \n",
       "1                      14               23  \n",
       "2                      15               26  \n",
       "3                      15               16  \n",
       "4                      36               19  \n",
       "...                   ...              ...  \n",
       "3827                   33               29  \n",
       "3828                   25               20  \n",
       "3829                   42               27  \n",
       "3830                   27               15  \n",
       "3831                   15               10  \n",
       "\n",
       "[3832 rows x 5 columns]"
      ]
     },
     "execution_count": 8,
     "metadata": {},
     "output_type": "execute_result"
    }
   ],
   "source": [
    "pd_pos_data  = df_pos_data.select([\"shop_id\", \"caption\", \"date\", \"来店者数\"]).toPandas()\n",
    "pd_tmp_data1 = pd_pos_data[pd_pos_data[\"shop_id\"] == 1189] # カフェ・ド・クリエグランサンシャイン通り店\n",
    "pd_tmp_data2 = pd_pos_data[pd_pos_data[\"shop_id\"] == 1616] # カフェ・ド・クリエ日比谷通り内幸町店\n",
    "pd_tmp_data3 = pd_pos_data[pd_pos_data[\"shop_id\"] == 1428] # カフェ・ド・クリエ札幌オーロラタウン店\n",
    "pd_tmp_data4 = pd_pos_data[pd_pos_data[\"shop_id\"] == 1550] # カフェ・ド・クリエ博多大博通店\n",
    "pd_pos_data  = pd.merge(pd_tmp_data1, pd_tmp_data2, on=\"date\", how=\"inner\", suffixes=['_1', '_2'])\n",
    "pd_pos_data  = pd.merge(pd_pos_data,  pd_tmp_data3, on=\"date\", how=\"inner\", suffixes=['_2', '_3'])\n",
    "pd_pos_data  = pd.merge(pd_pos_data,  pd_tmp_data4, on=\"date\", how=\"inner\", suffixes=['_3', '_4'])\n",
    "pd_pos_data  = pd_pos_data[[\"date\", \"来店者数_1\", \"来店者数_2\", \"来店者数_3\", \"来店者数_4\"]]\n",
    "pd_pos_data  = pd_pos_data.rename(columns={\n",
    "    \t\t\t\t\t\t\t\t\"来店者数_1\": \"カフェ・ド・クリエグランサンシャイン通り店\",\n",
    "                                    \"来店者数_2\": \"カフェ・ド・クリエ日比谷通り内幸町店\",\n",
    "                                    \"来店者数_3\": \"カフェ・ド・クリエ札幌オーロラタウン店\",\n",
    "                                    \"来店者数_4\": \"カフェ・ド・クリエ博多大博通店\"\n",
    "                                })\n",
    "pd_pos_data  = pd_pos_data[[\n",
    "    \t\t\t\t\"date\",\n",
    "                    \"カフェ・ド・クリエグランサンシャイン通り店\",\n",
    "                    \"カフェ・ド・クリエ日比谷通り内幸町店\",\n",
    "                    \"カフェ・ド・クリエ札幌オーロラタウン店\",\n",
    "                    \"カフェ・ド・クリエ博多大博通店\"\n",
    "                ]]\n",
    "del pd_tmp_data1\n",
    "del pd_tmp_data2\n",
    "del pd_tmp_data3\n",
    "del pd_tmp_data4\n",
    "pd_pos_data"
   ]
  },
  {
   "cell_type": "code",
   "execution_count": 9,
   "id": "a2862454",
   "metadata": {},
   "outputs": [],
   "source": [
    "x_data = pd_pos_data[[\"カフェ・ド・クリエグランサンシャイン通り店\", \"カフェ・ド・クリエ日比谷通り内幸町店\", \"カフェ・ド・クリエ札幌オーロラタウン店\", \"カフェ・ド・クリエ博多大博通店\"]].values.tolist()\n",
    "x_train, x_test = x_data[0:3600], x_data[3600:]"
   ]
  },
  {
   "cell_type": "code",
   "execution_count": 10,
   "id": "8dc40713",
   "metadata": {},
   "outputs": [],
   "source": [
    "import sklearn.linear_model as lm\n",
    "model = lm.Ridge(alpha=1, max_iter=10000000, tol=0.0)\n",
    "\n",
    "lags   = 4\n",
    "x_data = np.array([np.array(x_test)[t-lags : t][::-1].ravel() for t in range(lags, len(x_test))])\n",
    "y_data = x_test[lags:]\n",
    "model.fit(x_data, y_data)\n",
    "mean = model.predict(x_data)"
   ]
  },
  {
   "cell_type": "code",
   "execution_count": 11,
   "id": "73e1c856",
   "metadata": {},
   "outputs": [
    {
     "name": "stdout",
     "output_type": "stream",
     "text": [
      "alpha0:[27.8579 36.0071 15.9159 26.1611]  alpha:[[ 0.6328 -0.0771  0.0503 -0.0555]\n",
      " [-0.1045  0.5087 -0.0434  0.1309]\n",
      " [ 0.7714 -0.1528  0.434   0.1472]\n",
      " [ 0.0315  0.0134  0.1974  0.17  ]\n",
      " [-0.2127  0.1112 -0.0531  0.0071]\n",
      " [-0.0527 -0.2535 -0.0838 -0.161 ]\n",
      " [ 0.2986  0.238  -0.0371  0.0593]\n",
      " [ 0.0497  0.0167  0.1061  0.0085]\n",
      " [ 0.1536 -0.091   0.0194 -0.0148]\n",
      " [-0.4217  0.0706 -0.0874 -0.1514]\n",
      " [ 0.0978 -0.0617  0.0456  0.1364]\n",
      " [ 0.2883 -0.1128  0.1681  0.1149]\n",
      " [-0.0739 -0.0312 -0.0021 -0.0289]\n",
      " [ 0.2637  0.1638  0.1539  0.0331]\n",
      " [-0.6109 -0.7886 -0.495  -0.5349]\n",
      " [ 0.0189  0.3288  0.0118  0.2895]]\n"
     ]
    },
    {
     "data": {
      "text/plain": [
       "np.float64(630.7292832272097)"
      ]
     },
     "execution_count": 11,
     "metadata": {},
     "output_type": "execute_result"
    }
   ],
   "source": [
    "print(f\"alpha0:{model.intercept_}  alpha:{model.coef_.T}\", flush=True)\n",
    "mse = np.sum((y_data - mean) ** 2) / len(y_data)\n",
    "mse"
   ]
  },
  {
   "cell_type": "code",
   "execution_count": 18,
   "id": "87b68438",
   "metadata": {},
   "outputs": [
    {
     "name": "stderr",
     "output_type": "stream",
     "text": [
      "/opt/homebrew/lib/python3.12/site-packages/sklearn/linear_model/_coordinate_descent.py:697: ConvergenceWarning: Objective did not converge. You might want to increase the number of iterations, check the scale of the features or consider increasing regularisation. Duality gap: 2.392e-08, tolerance: 0.000e+00\n",
      "  model = cd_fast.enet_coordinate_descent(\n",
      "/opt/homebrew/lib/python3.12/site-packages/sklearn/linear_model/_coordinate_descent.py:697: ConvergenceWarning: Objective did not converge. You might want to increase the number of iterations, check the scale of the features or consider increasing regularisation. Duality gap: 4.398e-09, tolerance: 0.000e+00\n",
      "  model = cd_fast.enet_coordinate_descent(\n",
      "/opt/homebrew/lib/python3.12/site-packages/sklearn/linear_model/_coordinate_descent.py:697: ConvergenceWarning: Objective did not converge. You might want to increase the number of iterations, check the scale of the features or consider increasing regularisation. Duality gap: 3.354e-09, tolerance: 0.000e+00\n",
      "  model = cd_fast.enet_coordinate_descent(\n"
     ]
    }
   ],
   "source": [
    "import sklearn.linear_model as lm\n",
    "model = lm.Lasso(alpha=10, max_iter=1000000, tol=0.0)\n",
    "\n",
    "lags   = 4\n",
    "x_data = np.array([np.array(x_test)[t-lags : t][::-1].ravel() for t in range(lags, len(x_test))])\n",
    "y_data = x_test[lags:]\n",
    "model.fit(x_data, y_data)\n",
    "mean = model.predict(x_data)"
   ]
  },
  {
   "cell_type": "code",
   "execution_count": 19,
   "id": "b74f4fa4",
   "metadata": {},
   "outputs": [
    {
     "name": "stdout",
     "output_type": "stream",
     "text": [
      "alpha0:[28.63   36.005  19.3842 27.1074]  alpha:[[ 0.6123 -0.0173  0.0225 -0.    ]\n",
      " [-0.0087  0.4131  0.      0.1279]\n",
      " [ 0.6916 -0.      0.4043  0.0823]\n",
      " [ 0.      0.      0.0808  0.1076]\n",
      " [-0.107   0.     -0.0162 -0.0079]\n",
      " [-0.0408 -0.1303 -0.0254 -0.1177]\n",
      " [ 0.1449  0.      0.      0.    ]\n",
      " [ 0.     -0.      0.      0.    ]\n",
      " [ 0.0563 -0.0356 -0.     -0.    ]\n",
      " [-0.2709  0.     -0.     -0.0585]\n",
      " [ 0.     -0.     -0.      0.    ]\n",
      " [ 0.153  -0.      0.005   0.    ]\n",
      " [-0.073  -0.0669 -0.0387 -0.0655]\n",
      " [ 0.1191  0.1631  0.0171  0.    ]\n",
      " [-0.1973 -0.4684 -0.1439 -0.1897]\n",
      " [ 0.      0.093   0.      0.139 ]]\n"
     ]
    },
    {
     "data": {
      "text/plain": [
       "np.float64(674.9661726145829)"
      ]
     },
     "execution_count": 19,
     "metadata": {},
     "output_type": "execute_result"
    }
   ],
   "source": [
    "print(f\"alpha0:{model.intercept_}  alpha:{model.coef_.T}\", flush=True)\n",
    "mse = np.sum((y_data - mean) ** 2) / len(y_data)\n",
    "mse"
   ]
  }
 ],
 "metadata": {
  "kernelspec": {
   "display_name": "Python 3",
   "language": "python",
   "name": "python3"
  },
  "language_info": {
   "codemirror_mode": {
    "name": "ipython",
    "version": 3
   },
   "file_extension": ".py",
   "mimetype": "text/x-python",
   "name": "python",
   "nbconvert_exporter": "python",
   "pygments_lexer": "ipython3",
   "version": "3.12.5"
  }
 },
 "nbformat": 4,
 "nbformat_minor": 5
}
